{
  "cells": [
    {
      "cell_type": "markdown",
      "metadata": {
        "id": "view-in-github",
        "colab_type": "text"
      },
      "source": [
        "<a href=\"https://colab.research.google.com/github/ahairshi/dsf-redis/blob/main/locust_task_name.ipynb\" target=\"_parent\"><img src=\"https://colab.research.google.com/assets/colab-badge.svg\" alt=\"Open In Colab\"/></a>"
      ]
    },
    {
      "cell_type": "markdown",
      "source": [
        "Got it. You want to change the **Locust task name** used for reporting.\n",
        "\n",
        "In Locust, the task name that appears in the Web UI and reports is determined by the `name` argument passed to the HTTP method (`self.client.post`, `self.client.get`, etc.). If you omit the `name` argument, it defaults to the request path.\n",
        "\n",
        "Here is the modified script, changing the task name to a specific value: **`Submit_Order_XML_Request`**.\n",
        "\n",
        "### Locust Script with Custom Task Name (`locustfile.py`)"
      ],
      "metadata": {
        "id": "u72fVw5ZY8VJ"
      }
    },
    {
      "cell_type": "code",
      "source": [
        "import os\n",
        "import random\n",
        "from locust import FastHttpUser, task, between, events\n",
        "from typing import Dict, List, Any\n",
        "\n",
        "# ==============================================================================\n",
        "# 1. Configuration & Data Loading\n",
        "# ==============================================================================\n",
        "\n",
        "# Define the list of XML payload files to load\n",
        "XML_FILES: List[str] = [\n",
        "    \"payload_a.xml\",\n",
        "    \"payload_b.xml\"\n",
        "]\n",
        "\n",
        "# This will store the content of the XML files\n",
        "PAYLOADS: List[str] = []\n",
        "\n",
        "# Define the headers (replace with your actual cURL headers)\n",
        "HEADERS: Dict[str, str] = {\n",
        "    'Content-Type': 'text/xml; charset=utf-8',\n",
        "    'SOAPAction': '\"http://tempuri.org/MethodName\"',\n",
        "    'Accept-Encoding': 'gzip,deflate'\n",
        "}\n",
        "\n",
        "# --- Event Hook to Load Files Before Test Starts ---\n",
        "@events.init.add_listener\n",
        "def _(environment, **kwargs):\n",
        "    \"\"\"Load all XML payload files into memory when Locust starts.\"\"\"\n",
        "    for file_name in XML_FILES:\n",
        "        try:\n",
        "            file_path = os.path.join(os.path.dirname(__file__), file_name)\n",
        "            with open(file_path, 'r', encoding='utf-8') as f:\n",
        "                PAYLOADS.append(f.read())\n",
        "            print(f\"INFO: Successfully loaded payload from {file_name}\")\n",
        "\n",
        "        except FileNotFoundError:\n",
        "            print(f\"ERROR: Payload file not found: {file_name}\")\n",
        "        except Exception as e:\n",
        "            print(f\"ERROR: Could not read file {file_name}: {e}\")\n",
        "\n",
        "# ==============================================================================\n",
        "# 2. Locust User Class Definition using FastHttpUser\n",
        "# ==============================================================================\n",
        "\n",
        "class XmlServiceUser(FastHttpUser):\n",
        "    \"\"\"Simulates a user making requests with a randomly selected XML payload.\"\"\"\n",
        "\n",
        "    host = \"http://localhost:8080\"\n",
        "    wait_time = between(1, 3)\n",
        "\n",
        "    @task\n",
        "    def submit_random_xml_request(self):\n",
        "        \"\"\"\n",
        "        Executes a POST request with a randomly chosen XML payload.\n",
        "        \"\"\"\n",
        "\n",
        "        if not PAYLOADS:\n",
        "            print(\"ERROR: No payloads were loaded. Skipping task.\")\n",
        "            return\n",
        "\n",
        "        selected_payload = random.choice(PAYLOADS)\n",
        "        endpoint_path = \"/api/xml-processor\"\n",
        "\n",
        "        # -------------------------------------------------------------------\n",
        "        # THE LOCUST TASK NAME IS SET HERE USING THE 'name' PARAMETER\n",
        "        # -------------------------------------------------------------------\n",
        "        response = self.client.post(\n",
        "            endpoint_path,\n",
        "            data=selected_payload,\n",
        "            headers=HEADERS,\n",
        "            # This static string will be the name reported in the statistics table\n",
        "            name=\"Submit_Order_XML_Request\"\n",
        "        )\n",
        "\n",
        "        # --- Optional: Response Validation ---\n",
        "        if response.status_code != 200:\n",
        "            response.failure(f\"Request failed with status code: {response.status_code}\")"
      ],
      "outputs": [],
      "execution_count": null,
      "metadata": {
        "id": "R8eo29kuY8VL"
      }
    },
    {
      "cell_type": "markdown",
      "source": [
        "### Explanation of the Change\n",
        "\n",
        "The key change is in the **`self.client.post`** call:"
      ],
      "metadata": {
        "id": "nLqHdSLDY8VM"
      }
    },
    {
      "cell_type": "code",
      "source": [
        "name=\"Submit_Order_XML_Request\""
      ],
      "outputs": [],
      "execution_count": null,
      "metadata": {
        "id": "hLp3uCfNY8VM"
      }
    },
    {
      "cell_type": "markdown",
      "source": [
        "By providing a static string to the `name` argument, all requests made by this task will be grouped under **`Submit_Order_XML_Request`** in the Locust statistics, regardless of the `endpoint_path` or the specific XML payload used. This is the standard way to control task reporting names in Locust."
      ],
      "metadata": {
        "id": "akqY1ul4Y8VM"
      }
    }
  ],
  "metadata": {
    "colab": {
      "provenance": [],
      "include_colab_link": true
    },
    "kernelspec": {
      "display_name": "Python 3",
      "name": "python3"
    }
  },
  "nbformat": 4,
  "nbformat_minor": 0
}